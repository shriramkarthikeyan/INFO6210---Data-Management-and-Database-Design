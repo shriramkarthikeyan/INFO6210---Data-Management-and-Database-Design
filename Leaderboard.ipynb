{
 "cells": [
  {
   "cell_type": "code",
   "execution_count": 17,
   "metadata": {},
   "outputs": [],
   "source": [
    "import pandas as pd\n",
    "import os.path"
   ]
  },
  {
   "cell_type": "code",
   "execution_count": 18,
   "metadata": {},
   "outputs": [],
   "source": [
    "files=[]\n",
    "import os\n",
    "\n",
    "for filename in os.listdir('C:/Users/durve/Google Drive (durve.d@husky.neu.edu)/Hyperparameter Project/Leaderboard CSVs'):\n",
    "    if filename.endswith(\".csv\"):# or filename.endswith(\".py\"): \n",
    "        files.append(os.path.join('C:/Users/durve/Google Drive (durve.d@husky.neu.edu)/Hyperparameter Project/Leaderboard CSVs', filename))\n",
    "        continue\n",
    "    else:\n",
    "        continue"
   ]
  },
  {
   "cell_type": "code",
   "execution_count": 19,
   "metadata": {},
   "outputs": [],
   "source": [
    "run_id = []\n",
    "i=0\n",
    "new_df= pd.DataFrame()\n",
    "for file in files:\n",
    "    id = os.path.basename(file)\n",
    "    run_id.append(id.split('_')[0].split('lb')[0])\n",
    "    df=pd.read_csv(file,index_col=0)\n",
    "    df.insert(0, 'run_id', run_id[i])\n",
    "    new_df = new_df.append(df)\n",
    "    i=i+1"
   ]
  },
  {
   "cell_type": "code",
   "execution_count": 20,
   "metadata": {},
   "outputs": [],
   "source": [
    "#It is Null since the dataset is a regression one\n",
    "new_df['auc'] = None\n",
    "new_df['log_loss'] = None"
   ]
  },
  {
   "cell_type": "code",
   "execution_count": 25,
   "metadata": {},
   "outputs": [
    {
     "data": {
      "text/html": [
       "<div>\n",
       "<style scoped>\n",
       "    .dataframe tbody tr th:only-of-type {\n",
       "        vertical-align: middle;\n",
       "    }\n",
       "\n",
       "    .dataframe tbody tr th {\n",
       "        vertical-align: top;\n",
       "    }\n",
       "\n",
       "    .dataframe thead th {\n",
       "        text-align: right;\n",
       "    }\n",
       "</style>\n",
       "<table border=\"1\" class=\"dataframe\">\n",
       "  <thead>\n",
       "    <tr style=\"text-align: right;\">\n",
       "      <th></th>\n",
       "      <th>run_id</th>\n",
       "      <th>model_id</th>\n",
       "      <th>mean_residual_deviance</th>\n",
       "      <th>rmse</th>\n",
       "      <th>mse</th>\n",
       "      <th>mae</th>\n",
       "      <th>rmsle</th>\n",
       "      <th>auc</th>\n",
       "      <th>log_loss</th>\n",
       "    </tr>\n",
       "  </thead>\n",
       "  <tbody>\n",
       "    <tr>\n",
       "      <th>0</th>\n",
       "      <td>58erhH7N2</td>\n",
       "      <td>GLM_grid_1_AutoML_20190421_233433_model_1</td>\n",
       "      <td>0.001772</td>\n",
       "      <td>0.042093</td>\n",
       "      <td>0.001772</td>\n",
       "      <td>0.016516</td>\n",
       "      <td>0.005909</td>\n",
       "      <td>None</td>\n",
       "      <td>None</td>\n",
       "    </tr>\n",
       "    <tr>\n",
       "      <th>1</th>\n",
       "      <td>58erhH7N2</td>\n",
       "      <td>GLM_grid_1_AutoML_20190421_234613_model_1</td>\n",
       "      <td>0.001772</td>\n",
       "      <td>0.042093</td>\n",
       "      <td>0.001772</td>\n",
       "      <td>0.016516</td>\n",
       "      <td>0.005909</td>\n",
       "      <td>None</td>\n",
       "      <td>None</td>\n",
       "    </tr>\n",
       "    <tr>\n",
       "      <th>2</th>\n",
       "      <td>58erhH7N2</td>\n",
       "      <td>GLM_grid_1_AutoML_20190421_232600_model_1</td>\n",
       "      <td>0.001772</td>\n",
       "      <td>0.042093</td>\n",
       "      <td>0.001772</td>\n",
       "      <td>0.016516</td>\n",
       "      <td>0.005909</td>\n",
       "      <td>None</td>\n",
       "      <td>None</td>\n",
       "    </tr>\n",
       "    <tr>\n",
       "      <th>3</th>\n",
       "      <td>58erhH7N2</td>\n",
       "      <td>StackedEnsemble_BestOfFamily_AutoML_20190421_2...</td>\n",
       "      <td>0.002628</td>\n",
       "      <td>0.051266</td>\n",
       "      <td>0.002628</td>\n",
       "      <td>0.017612</td>\n",
       "      <td>0.005495</td>\n",
       "      <td>None</td>\n",
       "      <td>None</td>\n",
       "    </tr>\n",
       "    <tr>\n",
       "      <th>4</th>\n",
       "      <td>58erhH7N2</td>\n",
       "      <td>StackedEnsemble_AllModels_AutoML_20190421_232600</td>\n",
       "      <td>0.002952</td>\n",
       "      <td>0.054336</td>\n",
       "      <td>0.002952</td>\n",
       "      <td>0.010259</td>\n",
       "      <td>0.005552</td>\n",
       "      <td>None</td>\n",
       "      <td>None</td>\n",
       "    </tr>\n",
       "  </tbody>\n",
       "</table>\n",
       "</div>"
      ],
      "text/plain": [
       "      run_id                                           model_id  \\\n",
       "0  58erhH7N2          GLM_grid_1_AutoML_20190421_233433_model_1   \n",
       "1  58erhH7N2          GLM_grid_1_AutoML_20190421_234613_model_1   \n",
       "2  58erhH7N2          GLM_grid_1_AutoML_20190421_232600_model_1   \n",
       "3  58erhH7N2  StackedEnsemble_BestOfFamily_AutoML_20190421_2...   \n",
       "4  58erhH7N2   StackedEnsemble_AllModels_AutoML_20190421_232600   \n",
       "\n",
       "   mean_residual_deviance      rmse       mse       mae     rmsle   auc  \\\n",
       "0                0.001772  0.042093  0.001772  0.016516  0.005909  None   \n",
       "1                0.001772  0.042093  0.001772  0.016516  0.005909  None   \n",
       "2                0.001772  0.042093  0.001772  0.016516  0.005909  None   \n",
       "3                0.002628  0.051266  0.002628  0.017612  0.005495  None   \n",
       "4                0.002952  0.054336  0.002952  0.010259  0.005552  None   \n",
       "\n",
       "  log_loss  \n",
       "0     None  \n",
       "1     None  \n",
       "2     None  \n",
       "3     None  \n",
       "4     None  "
      ]
     },
     "execution_count": 25,
     "metadata": {},
     "output_type": "execute_result"
    }
   ],
   "source": [
    "new_df.head()"
   ]
  },
  {
   "cell_type": "code",
   "execution_count": 22,
   "metadata": {},
   "outputs": [],
   "source": [
    "new_df.to_csv('Leaderboard.csv',index=False)"
   ]
  }
 ],
 "metadata": {
  "kernelspec": {
   "display_name": "Python 3",
   "language": "python",
   "name": "python3"
  },
  "language_info": {
   "codemirror_mode": {
    "name": "ipython",
    "version": 3
   },
   "file_extension": ".py",
   "mimetype": "text/x-python",
   "name": "python",
   "nbconvert_exporter": "python",
   "pygments_lexer": "ipython3",
   "version": "3.7.1"
  }
 },
 "nbformat": 4,
 "nbformat_minor": 2
}
