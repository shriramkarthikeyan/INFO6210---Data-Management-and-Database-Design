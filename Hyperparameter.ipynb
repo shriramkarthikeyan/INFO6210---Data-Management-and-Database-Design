{
 "cells": [
  {
   "cell_type": "code",
   "execution_count": 1,
   "metadata": {},
   "outputs": [],
   "source": [
    "import json\n",
    "import pandas as pd\n",
    "import os.path"
   ]
  },
  {
   "cell_type": "code",
   "execution_count": 2,
   "metadata": {},
   "outputs": [],
   "source": [
    "#loading the list of hyperparametes\n",
    "with open('Hyperparameters.txt', \"r\") as word_list:\n",
    "    hyperparams = word_list.read().split(' ')\n",
    "hyperparams = hyperparams[0].split(\"\\n\")\n",
    "hyperparams = list(dict.fromkeys(hyperparams)) #Removes duplicates"
   ]
  },
  {
   "cell_type": "code",
   "execution_count": 3,
   "metadata": {},
   "outputs": [],
   "source": [
    "#Making a list of files of Json file paths \n",
    "hyperparam_json_files=['C:/Users/durve/Google Drive (durve.d@husky.neu.edu)/Hyperparameter Project/hyperparameter-db-project-ds11-master/Extracted Files/58erhH7N2/hyperparameters_900 (1).json',\n",
    "                      'C:/Users/durve/Google Drive (durve.d@husky.neu.edu)/Hyperparameter Project/hyperparameter-db-project-ds11-master/Extracted Files/lOBYWUG72/hyperparameters_1100 (1).json',\n",
    "                      'C:/Users/durve/Google Drive (durve.d@husky.neu.edu)/Hyperparameter Project/hyperparameter-db-project-ds11-master/Extracted Files/p7TZ8WufJ/hyperparameters_500.json',\n",
    "                      'C:/Users/durve/Google Drive (durve.d@husky.neu.edu)/Hyperparameter Project/hyperparameter-db-project-ds11-master/Extracted Files/qlXRazR12/hyperparameters_700 (1).json',\n",
    "                      'C:/Users/durve/Google Drive (durve.d@husky.neu.edu)/Hyperparameter Project/hyperparameter-db-project-ds11-master/Extracted Files/xmbfawAR9/hyperparameters_1300 (1).json']\n",
    "\n"
   ]
  },
  {
   "cell_type": "code",
   "execution_count": 4,
   "metadata": {},
   "outputs": [],
   "source": [
    "m=[]\n",
    "h=[]\n",
    "d=[]\n",
    "a=[]\n",
    "id=[]\n",
    "\n",
    "for file in hyperparam_json_files:\n",
    "#loading the Json\n",
    "    with open(file, 'r') as f:\n",
    "        distros_dict = json.load(f)\n",
    "\n",
    "#Extracting the data from Json to fit the model \n",
    "\n",
    "    i = 0\n",
    "    for item in distros_dict:\n",
    "        for hyper in hyperparams:\n",
    "            id.append(os.path.dirname(file).split('/')[-1])#getting the run id\n",
    "            m.append(distros_dict[i]['model_id']['actual']['name'])#name of the model\n",
    "            h.append(hyper)#getting the hyperparameter\n",
    "            try:\n",
    "                d.append(distros_dict[i][hyper]['default'])#getting the default value\n",
    "            except:\n",
    "                d.append(None)\n",
    "            try:\n",
    "                a.append(distros_dict[i][hyper]['actual'])#getting the actual value\n",
    "            except:\n",
    "                a.append(None)\n",
    "        i+=1\n",
    "\n"
   ]
  },
  {
   "cell_type": "code",
   "execution_count": 5,
   "metadata": {},
   "outputs": [],
   "source": [
    "dataframe = pd.DataFrame({'Run_Id':id,\n",
    "                          'Model_Name' : m,\n",
    "                          'Hyperparameter_Name': h,\n",
    "                          'Default_Value' : d,\n",
    "                          'Actual_Value' : a})\n",
    "\n",
    "dataframe = dataframe.dropna().reset_index(drop=True)"
   ]
  },
  {
   "cell_type": "code",
   "execution_count": 10,
   "metadata": {},
   "outputs": [
    {
     "data": {
      "text/html": [
       "<div>\n",
       "<style scoped>\n",
       "    .dataframe tbody tr th:only-of-type {\n",
       "        vertical-align: middle;\n",
       "    }\n",
       "\n",
       "    .dataframe tbody tr th {\n",
       "        vertical-align: top;\n",
       "    }\n",
       "\n",
       "    .dataframe thead th {\n",
       "        text-align: right;\n",
       "    }\n",
       "</style>\n",
       "<table border=\"1\" class=\"dataframe\">\n",
       "  <thead>\n",
       "    <tr style=\"text-align: right;\">\n",
       "      <th></th>\n",
       "      <th>Run_Id</th>\n",
       "      <th>Model_Name</th>\n",
       "      <th>Hyperparameter_Name</th>\n",
       "      <th>Default_Value</th>\n",
       "      <th>Actual_Value</th>\n",
       "    </tr>\n",
       "  </thead>\n",
       "  <tbody>\n",
       "    <tr>\n",
       "      <th>0</th>\n",
       "      <td>58erhH7N2</td>\n",
       "      <td>GLM_grid_1_AutoML_20190421_233433_model_1</td>\n",
       "      <td>fold_assignment</td>\n",
       "      <td>AUTO</td>\n",
       "      <td>Modulo</td>\n",
       "    </tr>\n",
       "    <tr>\n",
       "      <th>1</th>\n",
       "      <td>58erhH7N2</td>\n",
       "      <td>GLM_grid_1_AutoML_20190421_233433_model_1</td>\n",
       "      <td>max_runtime_secs</td>\n",
       "      <td>0</td>\n",
       "      <td>0</td>\n",
       "    </tr>\n",
       "    <tr>\n",
       "      <th>2</th>\n",
       "      <td>58erhH7N2</td>\n",
       "      <td>GLM_grid_1_AutoML_20190421_233433_model_1</td>\n",
       "      <td>balance_classes</td>\n",
       "      <td>False</td>\n",
       "      <td>False</td>\n",
       "    </tr>\n",
       "    <tr>\n",
       "      <th>3</th>\n",
       "      <td>58erhH7N2</td>\n",
       "      <td>GLM_grid_1_AutoML_20190421_233433_model_1</td>\n",
       "      <td>max_after_balance_size</td>\n",
       "      <td>5</td>\n",
       "      <td>5</td>\n",
       "    </tr>\n",
       "    <tr>\n",
       "      <th>4</th>\n",
       "      <td>58erhH7N2</td>\n",
       "      <td>GLM_grid_1_AutoML_20190421_233433_model_1</td>\n",
       "      <td>seed</td>\n",
       "      <td>-1</td>\n",
       "      <td>623814104656333214</td>\n",
       "    </tr>\n",
       "  </tbody>\n",
       "</table>\n",
       "</div>"
      ],
      "text/plain": [
       "      Run_Id                                 Model_Name  \\\n",
       "0  58erhH7N2  GLM_grid_1_AutoML_20190421_233433_model_1   \n",
       "1  58erhH7N2  GLM_grid_1_AutoML_20190421_233433_model_1   \n",
       "2  58erhH7N2  GLM_grid_1_AutoML_20190421_233433_model_1   \n",
       "3  58erhH7N2  GLM_grid_1_AutoML_20190421_233433_model_1   \n",
       "4  58erhH7N2  GLM_grid_1_AutoML_20190421_233433_model_1   \n",
       "\n",
       "      Hyperparameter_Name Default_Value        Actual_Value  \n",
       "0         fold_assignment          AUTO              Modulo  \n",
       "1        max_runtime_secs             0                   0  \n",
       "2         balance_classes         False               False  \n",
       "3  max_after_balance_size             5                   5  \n",
       "4                    seed            -1  623814104656333214  "
      ]
     },
     "execution_count": 10,
     "metadata": {},
     "output_type": "execute_result"
    }
   ],
   "source": [
    "dataframe.head()"
   ]
  },
  {
   "cell_type": "code",
   "execution_count": 6,
   "metadata": {},
   "outputs": [],
   "source": [
    "dataframe.to_csv('Hyperparameter.csv',index=False)"
   ]
  }
 ],
 "metadata": {
  "kernelspec": {
   "display_name": "Python 3",
   "language": "python",
   "name": "python3"
  },
  "language_info": {
   "codemirror_mode": {
    "name": "ipython",
    "version": 3
   },
   "file_extension": ".py",
   "mimetype": "text/x-python",
   "name": "python",
   "nbconvert_exporter": "python",
   "pygments_lexer": "ipython3",
   "version": "3.7.1"
  }
 },
 "nbformat": 4,
 "nbformat_minor": 2
}
